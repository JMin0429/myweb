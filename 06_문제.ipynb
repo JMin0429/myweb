{
 "cells": [
  {
   "cell_type": "code",
   "execution_count": 3,
   "metadata": {},
   "outputs": [
    {
     "name": "stdout",
     "output_type": "stream",
     "text": [
      "2682\n"
     ]
    }
   ],
   "source": [
    "#환율 계산기 1 만들기\n",
    "#1달러 = 1341원\n",
    "#환전할 달러를 입력 -> 환전금액을 출력하세요\n",
    "\n",
    "a = int(input(\"환전할 금액을 입력하세요 : \"))\n",
    "print(a*1341)"
   ]
  },
  {
   "cell_type": "code",
   "execution_count": 6,
   "metadata": {},
   "outputs": [
    {
     "name": "stdout",
     "output_type": "stream",
     "text": [
      "2682원\n"
     ]
    }
   ],
   "source": [
    "#환율 계산기 2 만들기\n",
    "\n",
    "#입력\n",
    "b = input()\n",
    "a = int(input())\n",
    "\n",
    "if b=='달러':\n",
    "    print(str(a*1341)+'원')\n",
    "elif b=='유로':\n",
    "    print(str(a*1478)+'원')\n",
    "elif b=='파운드':\n",
    "    print(str(a*1750)+'원')"
   ]
  },
  {
   "cell_type": "markdown",
   "metadata": {},
   "source": [
    "3. 두 수 중 더 큰 수를 출력하는 프로그램\n",
    "입력예시\n",
    "10\n",
    "20\n",
    "출력예시\n",
    "20"
   ]
  },
  {
   "cell_type": "code",
   "execution_count": 1,
   "metadata": {},
   "outputs": [
    {
     "name": "stdout",
     "output_type": "stream",
     "text": [
      "30\n"
     ]
    }
   ],
   "source": [
    "a = int(input())\n",
    "b = int(input())\n",
    "\n",
    "if a>b:\n",
    "    print(a)\n",
    "else:\n",
    "    print(b)"
   ]
  },
  {
   "cell_type": "markdown",
   "metadata": {},
   "source": [
    "4. 세 수 중 가장 큰 수를 출력하세요."
   ]
  },
  {
   "cell_type": "code",
   "execution_count": 19,
   "metadata": {},
   "outputs": [
    {
     "name": "stdout",
     "output_type": "stream",
     "text": [
      "5\n"
     ]
    }
   ],
   "source": [
    "a = int(input())\n",
    "b = int(input())\n",
    "c = int(input())\n",
    "\n",
    "if a>=b and a>=c:\n",
    "    print(a)\n",
    "elif b>=a and b>=c:\n",
    "    print(b)\n",
    "else:\n",
    "    print(c)"
   ]
  },
  {
   "cell_type": "markdown",
   "metadata": {},
   "source": [
    "5. 주민등록번호를 입력하면 남성인지 여성인지 알려주는 프로그램을 만들어보세요."
   ]
  },
  {
   "cell_type": "code",
   "execution_count": 25,
   "metadata": {},
   "outputs": [
    {
     "name": "stdout",
     "output_type": "stream",
     "text": [
      "여성\n"
     ]
    }
   ],
   "source": [
    "a = input()\n",
    "b = a[7]\n",
    "\n",
    "if b=='1' or b=='3':\n",
    "    print(\"남성\")\n",
    "if b=='2' or b=='4':\n",
    "    print(\"여성\")"
   ]
  },
  {
   "cell_type": "markdown",
   "metadata": {},
   "source": [
    "6. 주민등록번호를 입력했을 때 대구인지 아닌지\n",
    "67 68 69 76"
   ]
  },
  {
   "cell_type": "code",
   "execution_count": 30,
   "metadata": {},
   "outputs": [
    {
     "name": "stdout",
     "output_type": "stream",
     "text": [
      "대구 아님\n"
     ]
    }
   ],
   "source": [
    "number = input()\n",
    "area = number[8:10]\n",
    "\n",
    "if area=='67' or area=='68' or area=='69' or area=='76':\n",
    "    print(\"대구\")\n",
    "else:\n",
    "    print('대구 아님')"
   ]
  },
  {
   "cell_type": "code",
   "execution_count": 42,
   "metadata": {},
   "outputs": [
    {
     "name": "stdout",
     "output_type": "stream",
     "text": [
      "이상없음\n"
     ]
    }
   ],
   "source": [
    "number = ''\n",
    "sum = int(number[0]) * 2+int(number[1]) * 3+int(number[2]) * 4+int(number[3]) * 5+int(number[4]) * 6+int(number[5]) * 7+int(number[7]) * 8+int(number[8]) * 9+int(number[9]) * 2+int(number[10]) * 3+int(number[11]) * 4+int(number[12]) * 5\n",
    "\n",
    "result = (11-sum%11)%10\n",
    "\n",
    "if result == int(number[-1]):\n",
    "    print('이상없음')\n",
    "else:\n",
    "    print('오류발생')"
   ]
  },
  {
   "cell_type": "code",
   "execution_count": 2,
   "metadata": {},
   "outputs": [
    {
     "name": "stdout",
     "output_type": "stream",
     "text": [
      "이상없음\n"
     ]
    }
   ],
   "source": [
    "number = ''\n",
    "\n",
    "sum = 0\n",
    "key = 2\n",
    "for i in number[:-1]:\n",
    "    if key == 10:\n",
    "        key = 2\n",
    "    if i!='-':\n",
    "        sum = sum+(int(i)*key)\n",
    "        key = key + 1\n",
    "\n",
    "result = (11-sum%11)%10\n",
    "\n",
    "if result == int(number[-1]):\n",
    "    print('이상없음')\n",
    "else:\n",
    "    print('오류발생')"
   ]
  },
  {
   "cell_type": "code",
   "execution_count": 4,
   "metadata": {},
   "outputs": [
    {
     "name": "stdout",
     "output_type": "stream",
     "text": [
      "1 3 5 7 9 11 13 15 17 19 "
     ]
    }
   ],
   "source": [
    "for i in range(1,20,2):\n",
    "    print(i, end=' ')"
   ]
  },
  {
   "cell_type": "code",
   "execution_count": 7,
   "metadata": {},
   "outputs": [
    {
     "name": "stdout",
     "output_type": "stream",
     "text": [
      "300\n"
     ]
    }
   ],
   "source": [
    "#최댓값을 찾는 알고리즘\n",
    "a = [10,300,60,50,30,80,20,100,40]\n",
    "max=a[0]\n",
    "for v in a:\n",
    "    if max<v:\n",
    "        max=v\n",
    "print(max)"
   ]
  },
  {
   "cell_type": "code",
   "execution_count": 8,
   "metadata": {},
   "outputs": [
    {
     "name": "stdout",
     "output_type": "stream",
     "text": [
      "1\n"
     ]
    }
   ],
   "source": [
    "#최솟값을 찾는 알고리즘\n",
    "a = [1,2,3]\n",
    "min=a[0]\n",
    "for v in a:\n",
    "    if min>v:\n",
    "        min=v\n",
    "print(min)"
   ]
  },
  {
   "cell_type": "code",
   "execution_count": 9,
   "metadata": {},
   "outputs": [
    {
     "name": "stdout",
     "output_type": "stream",
     "text": [
      "100\n"
     ]
    }
   ],
   "source": [
    "#두 번째로 큰 값 출력\n",
    "a = [10,300,60,50,30,80,20,100,40]\n",
    "#쉬운방법\n",
    "#오름차순 정렬\n",
    "a.sort()\n",
    "print(a[-2])"
   ]
  },
  {
   "cell_type": "code",
   "execution_count": 11,
   "metadata": {},
   "outputs": [
    {
     "name": "stdout",
     "output_type": "stream",
     "text": [
      "100\n"
     ]
    }
   ],
   "source": [
    "a = [10,300,60,50,30,80,20,100,40]\n",
    "#내림차순 정렬\n",
    "a.sort(reverse=True)\n",
    "print(a[1])"
   ]
  },
  {
   "cell_type": "code",
   "execution_count": 13,
   "metadata": {},
   "outputs": [
    {
     "name": "stdout",
     "output_type": "stream",
     "text": [
      "60\n"
     ]
    }
   ],
   "source": [
    "#두 수를 입력받아 최소공배수를 출력\n",
    "a = 10\n",
    "b = 12\n",
    "i=1\n",
    "j=1\n",
    "while a*i != b*j:\n",
    "    if a*i<b*j:\n",
    "        i+=1\n",
    "    else:\n",
    "        j+=1\n",
    "print(a*i)"
   ]
  },
  {
   "cell_type": "code",
   "execution_count": 14,
   "metadata": {},
   "outputs": [
    {
     "name": "stdout",
     "output_type": "stream",
     "text": [
      "60\n"
     ]
    }
   ],
   "source": [
    "#두 수를 입력받아 최소공배수를 출력\n",
    "a = 10\n",
    "b = 12\n",
    "i=1\n",
    "j=1\n",
    "while True:\n",
    "    if a*i==b*j:\n",
    "        print(a*i)\n",
    "        break\n",
    "    elif a*i < b*j:\n",
    "        i+=1\n",
    "    else:\n",
    "        j+=1"
   ]
  },
  {
   "cell_type": "code",
   "execution_count": 15,
   "metadata": {},
   "outputs": [
    {
     "name": "stdout",
     "output_type": "stream",
     "text": [
      "60\n"
     ]
    }
   ],
   "source": [
    "a = 12\n",
    "b = 10\n",
    "if a>b:\n",
    "    max = a\n",
    "    min = b\n",
    "else:\n",
    "    max = b\n",
    "    min = a\n",
    "for v in range(max, min*max+1 ,max):\n",
    "    if v%min==0:\n",
    "        print(v)\n",
    "        break"
   ]
  },
  {
   "cell_type": "code",
   "execution_count": 16,
   "metadata": {},
   "outputs": [
    {
     "name": "stdout",
     "output_type": "stream",
     "text": [
      "1\n",
      "2\n",
      "5\n",
      "10\n"
     ]
    }
   ],
   "source": [
    "n = 10\n",
    "\n",
    "for i in range (1,n+1):\n",
    "    if n%i==0:\n",
    "        print(i)\n"
   ]
  },
  {
   "cell_type": "code",
   "execution_count": null,
   "metadata": {},
   "outputs": [],
   "source": [
    "a = 12\n",
    "b = 10\n",
    "\n",
    "if a<b:\n",
    "    min=a\n",
    "else:\n",
    "    min=b\n",
    "\n",
    "for v in range(min, 0, -1):\n",
    "    if a%v == 0 and b%v == 0:\n",
    "        print(v)\n",
    "        break"
   ]
  },
  {
   "cell_type": "code",
   "execution_count": 27,
   "metadata": {},
   "outputs": [],
   "source": [
    "del min"
   ]
  },
  {
   "cell_type": "code",
   "execution_count": 29,
   "metadata": {},
   "outputs": [
    {
     "name": "stdout",
     "output_type": "stream",
     "text": [
      "139\n"
     ]
    }
   ],
   "source": [
    "a = 1112\n",
    "b = 695\n",
    "\n",
    "for v in range(min(a,b), 0, -1):\n",
    "    if a%v == 0 and b%v == 0:\n",
    "        print(v)\n",
    "        break"
   ]
  },
  {
   "cell_type": "code",
   "execution_count": 31,
   "metadata": {},
   "outputs": [
    {
     "name": "stdout",
     "output_type": "stream",
     "text": [
      "1112 695\n",
      "695 417\n",
      "417 278\n",
      "278 139\n",
      "139\n"
     ]
    }
   ],
   "source": [
    "max = 1112\n",
    "min = 695\n",
    "\n",
    "while min>0:\n",
    "    print(max,min)\n",
    "    tmp = max%min\n",
    "    max = min\n",
    "    min = tmp\n",
    "\n",
    "print(max)"
   ]
  },
  {
   "cell_type": "code",
   "execution_count": 33,
   "metadata": {},
   "outputs": [
    {
     "name": "stdout",
     "output_type": "stream",
     "text": [
      "139\n",
      "60\n"
     ]
    }
   ],
   "source": [
    "import math\n",
    "\n",
    "print(math.gcd(1112, 695))\n",
    "print(math.lcm(12, 10))"
   ]
  },
  {
   "cell_type": "code",
   "execution_count": null,
   "metadata": {},
   "outputs": [],
   "source": []
  }
 ],
 "metadata": {
  "kernelspec": {
   "display_name": "Python 3",
   "language": "python",
   "name": "python3"
  },
  "language_info": {
   "codemirror_mode": {
    "name": "ipython",
    "version": 3
   },
   "file_extension": ".py",
   "mimetype": "text/x-python",
   "name": "python",
   "nbconvert_exporter": "python",
   "pygments_lexer": "ipython3",
   "version": "3.9.2"
  },
  "orig_nbformat": 4
 },
 "nbformat": 4,
 "nbformat_minor": 2
}
